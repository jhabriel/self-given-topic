{
 "cells": [
  {
   "cell_type": "markdown",
   "id": "763d08e9",
   "metadata": {},
   "source": [
    "# A posteriori error estimates for linear elliptic problems in PorePy"
   ]
  },
  {
   "cell_type": "markdown",
   "id": "fac962ba",
   "metadata": {},
   "source": [
    "<font size=\"4\">\n",
    "Let $\\Omega = (0,1)^2$. The model problem reads\n",
    "$$\n",
    "\\begin{alignat}{2}\n",
    "\\nabla \\cdot \\mathbf{u} &= f, \\qquad&&\\mathrm{in}\\,\\Omega, \\\\\n",
    "\\mathbf{u} &= - K \\nabla p, \\qquad&&\\mathrm{in}\\,\\Omega, \\\\\n",
    "p &= 0, \\qquad&&\\mathrm{on}\\,\\partial\\Omega,\n",
    "\\end{alignat}\n",
    "$$\n",
    "with $K = I$, and $f(x,y) = 2 x (1-x) + 2 y (1 - y)$.\n",
    "\n",
    "Let $p_h \\in H^1_0(\\Omega)$ and $\\mathbf{u}_h \\in H(\\mathrm{div},\\Omega)$ denote the reconstructed pressure and flux obtained by postprocessing the TPFA solution. The aim is to compute the upper bound\n",
    "$$\n",
    "\\begin{equation}\n",
    "|||p-p_h||| \\leq ||K^{-1/2}\\left(\\mathbf{u}_h + K\\nabla p_h\\right)|| + \\frac{C_{F,\\Omega}}{c_1} ||f - \\nabla\\cdot\\mathbf{u}_h|| :=  \\mathcal{M}(p_h,\\mathbf{u}_h;f),\n",
    "\\end{equation}\n",
    "$$\n",
    "where $C_{F,\\Omega} = \\frac{1}{\\sqrt{2}\\pi}$ and $c_1=1$ for our setup.\n",
    "</font>"
   ]
  },
  {
   "cell_type": "markdown",
   "id": "5cb390c0",
   "metadata": {},
   "source": [
    "## Import packages and modules"
   ]
  },
  {
   "cell_type": "code",
   "execution_count": 1,
   "id": "dba02237",
   "metadata": {},
   "outputs": [],
   "source": [
    "import matplotlib.pyplot as plt\n",
    "import mdestimates as mde\n",
    "import numpy as np\n",
    "import porepy as pp\n",
    "import quadpy as qp\n",
    "import scipy.sparse as sps"
   ]
  },
  {
   "cell_type": "markdown",
   "id": "fa3cee44",
   "metadata": {},
   "source": [
    "## Obtain approximate solution using TPFA"
   ]
  },
  {
   "cell_type": "markdown",
   "id": "73fc9a33",
   "metadata": {},
   "source": [
    "### Create a grid"
   ]
  },
  {
   "cell_type": "code",
   "execution_count": 2,
   "id": "bdabd5cf",
   "metadata": {},
   "outputs": [],
   "source": [
    "mesh_size = 0.1\n",
    "domain = {\"xmin\": 0.0, \"xmax\": 1.0, \"ymin\": 0.0, \"ymax\": 1.0}\n",
    "network_2d = pp.FractureNetwork2d(None, None, domain)\n",
    "mesh_args = {\"mesh_size_bound\": mesh_size, \"mesh_size_frac\": mesh_size}\n",
    "\n",
    "gb = network_2d.mesh(mesh_args)\n",
    "g = gb.grids_of_dimension(2)[0]\n",
    "# pp.plot_grid(g, alpha=0.1, plot_2d=True, figsize=(5,5))"
   ]
  },
  {
   "cell_type": "markdown",
   "id": "3b0dd7e9",
   "metadata": {},
   "source": [
    "### Asign data"
   ]
  },
  {
   "cell_type": "code",
   "execution_count": 3,
   "id": "66dbb952",
   "metadata": {},
   "outputs": [],
   "source": [
    "# Obtain exact source terms\n",
    "qp_elements = mde.estimates_utils.get_quadpy_elements(g, g)\n",
    "int_method = qp.t2.get_good_scheme(2)\n",
    "def f(x):\n",
    "    return 2 * x[0] * (1 - x[0]) + 2 * x[1] * (1 - x[1])\n",
    "integrated_sources = int_method.integrate(f, qp_elements)\n",
    "\n",
    "# Assing parameters\n",
    "for g, d in gb:\n",
    "    bc_faces = g.get_boundary_faces()\n",
    "    bc_type = bc_faces.size * [\"dir\"]\n",
    "    bc = pp.BoundaryCondition(g, bc_faces, bc_type)\n",
    "    bc_values = np.zeros(g.num_faces)\n",
    "    \n",
    "    permeability = pp.SecondOrderTensor(np.ones(g.num_cells))\n",
    "    \n",
    "    parameters = {\n",
    "            \"bc\": bc,\n",
    "            \"bc_values\": bc_values,\n",
    "            \"source\": integrated_sources,\n",
    "            \"second_order_tensor\": permeability,\n",
    "            \"ambient_dimension\": gb.dim_max(),\n",
    "        }\n",
    "    \n",
    "    pp.initialize_data(g, d, \"flow\", parameters)    "
   ]
  },
  {
   "cell_type": "markdown",
   "id": "1b6b77fc",
   "metadata": {},
   "source": [
    "### Discretize and solve"
   ]
  },
  {
   "cell_type": "code",
   "execution_count": 4,
   "id": "c201188c",
   "metadata": {},
   "outputs": [],
   "source": [
    "# Assing discretization\n",
    "for g, d in gb:\n",
    "    d[pp.PRIMARY_VARIABLES] = {\"pressure\": {\"cells\": 1, \"faces\": 0}}\n",
    "    d[pp.DISCRETIZATION] = {\n",
    "        \"pressure\": {\"diffusion\": pp.Tpfa(\"flow\"), \"source\": pp.ScalarSource(\"flow\")}\n",
    "    }\n",
    "    \n",
    "# Assemble and solve\n",
    "assembler = pp.Assembler(gb)\n",
    "assembler.discretize()\n",
    "A, b = assembler.assemble_matrix_rhs()\n",
    "sol = sps.linalg.spsolve(A, b)\n",
    "assembler.distribute_variable(sol)\n",
    "\n",
    "# pp.plot_grid(g, d[pp.STATE][\"pressure\"], plot_2d=True, figsize=(6,5))"
   ]
  },
  {
   "cell_type": "markdown",
   "id": "70af3f01",
   "metadata": {},
   "source": [
    "## Estimate the errors"
   ]
  },
  {
   "cell_type": "code",
   "execution_count": 5,
   "id": "a8905115",
   "metadata": {},
   "outputs": [
    {
     "name": "stdout",
     "output_type": "stream",
     "text": [
      "Performing velocity reconstruction...✓\n",
      "Performing pressure reconstruction...✓\n",
      "Computing upper bounds...✓\n"
     ]
    }
   ],
   "source": [
    "# Define exact source term\n",
    "def f(x, y):\n",
    "    return 2 * x * (x - 1) + 2 * y * (y - 1)\n",
    "\n",
    "# First, create the error estimates object\n",
    "estimates = mde.ErrorEstimate(gb, source_list=[f], poincare_list=[1/(np.sqrt(2)*np.pi)])\n",
    "\n",
    "# Perform the actual estimation of the error\n",
    "estimates.estimate_error()\n",
    "\n",
    "# It is convenient to transfer the errors to d[pp.STATE]\n",
    "estimates.transfer_error_to_state()"
   ]
  },
  {
   "cell_type": "markdown",
   "id": "e8773eb1",
   "metadata": {},
   "source": [
    "### Retrieve the errors"
   ]
  },
  {
   "cell_type": "code",
   "execution_count": 6,
   "id": "02d8def5",
   "metadata": {},
   "outputs": [],
   "source": [
    "# Diffusive error\n",
    "diffusive_error = estimates.get_local_error(g, d, \"diffusive_error\")\n",
    "\n",
    "# Residual error\n",
    "residual_error = estimates.get_local_error(g, d, \"residual_error\")\n",
    "\n",
    "# Majorant (total error)\n",
    "majorant = estimates.get_majorant()\n",
    "\n",
    "# print(f\"Diffusive error: {diffusive_error}\")\n",
    "# print(f\"Residual error: {residual_error}\")\n",
    "# print(f\"Majorant: {majorant}\")"
   ]
  },
  {
   "cell_type": "markdown",
   "id": "8018d61e",
   "metadata": {},
   "source": [
    "### Plot diffusive and residual errors"
   ]
  },
  {
   "cell_type": "code",
   "execution_count": 7,
   "id": "75788524",
   "metadata": {},
   "outputs": [],
   "source": [
    "# pp.plot_grid(g, d[pp.STATE][\"diffusive_error\"], figsize=(6, 5), plot_2d=True, title=\"Diffusive error\")\n",
    "# pp.plot_grid(g, d[pp.STATE][\"residual_error\"], figsize=(6, 5), plot_2d=True, title=\"Residual error\")"
   ]
  },
  {
   "cell_type": "markdown",
   "id": "bc1e5010",
   "metadata": {},
   "source": [
    "### Efficiency index"
   ]
  },
  {
   "cell_type": "code",
   "execution_count": 8,
   "id": "7056a0c8",
   "metadata": {},
   "outputs": [],
   "source": [
    "# We know that p(x, y) = x (1 - x) + y (1 - y)\n",
    "\n",
    "def dp_dx(x, y):\n",
    "    return y * (1 - x) * (1 - y) - x * y * (1 - y)\n",
    "    \n",
    "def dp_dy(x, y):\n",
    "    return x * (1 - x) * (1 - y) - x * y * (1 - x)\n",
    "    \n",
    "int_method = qp.t2.get_good_scheme(4)\n",
    "\n",
    "recp = mde.estimates_utils.poly2col(d[\"estimates\"][\"recon_p\"])\n",
    "\n",
    "def integrand(x):\n",
    "    int_x = (dp_dx(x[0], x[1]) - recp[0]) ** 2\n",
    "    int_y = (dp_dy(x[0], x[1]) - recp[1]) ** 2\n",
    "    return int_x + int_y\n",
    "\n",
    "true_error = np.sum(int_method.integrate(integrand, qp_elements)) ** 0.5\n",
    "\n",
    "# print(f\"True error: {true_error}\")\n",
    "# print(f\"Majorant: {majorant}\")\n",
    "# print(f\"Efficiency index: {majorant/true_error}\")"
   ]
  },
  {
   "cell_type": "markdown",
   "id": "577c5544",
   "metadata": {},
   "source": [
    "### Error vs. computational effort"
   ]
  },
  {
   "cell_type": "code",
   "execution_count": 9,
   "id": "589a1479",
   "metadata": {},
   "outputs": [],
   "source": [
    "# TPFA\n",
    "mesh_sizes = np.array([0.1, 0.05, 0.025, 0.0125, 0.00625])\n",
    "true_errors = np.array([0.0180, 0.0103, 0.00522, 0.00316, 0.00258])\n",
    "majorants = np.array([0.0460, 0.0249, 0.0124, 0.00703, 0.0046])\n",
    "efficiency_indices = np.array([2.56, 2.42, 2.38, 2.22, 1.77])\n",
    "\n",
    "# # Error vs 1/h\n",
    "# plt.plot(np.log2(1/mesh_sizes), np.log2(true_errors), marker=\"o\", label=\"true error\")\n",
    "# plt.plot(np.log2(1/mesh_sizes), np.log2(majorants), marker=\"o\", label=\"majorant\")\n",
    "# plt.xlabel(\"log2(1/h)\", fontsize=\"15\")\n",
    "# plt.ylabel(\"log2(error)\", fontsize=\"15\")\n",
    "# plt.legend(fontsize=\"15\")\n",
    "# plt.show()\n",
    "\n",
    "# # Efficiency index vs 1/h\n",
    "# plt.plot(1/mesh_sizes, efficiency_indices, marker=\"o\")\n",
    "# plt.xlabel(\"1/h\", fontsize=\"15\")\n",
    "# plt.ylabel(\"Efficiency index\", fontsize=\"15\")\n",
    "# plt.show()"
   ]
  },
  {
   "cell_type": "code",
   "execution_count": 10,
   "id": "b9ebaaff",
   "metadata": {},
   "outputs": [],
   "source": [
    "# MPFA\n",
    "mesh_sizes = np.array([0.1, 0.05, 0.025, 0.0125, 0.00625])\n",
    "true_errors = np.array([0.0173, 0.00890, 0.00441, 0.00220, 0.00109])\n",
    "majorants = np.array([0.0449, 0.0227, 0.0113, 0.00563, 0.00280])\n",
    "efficiency_indices = np.array([2.59, 2.55, 2.56, 2.56, 2.56])\n",
    "\n",
    "# # Error vs 1/h\n",
    "# plt.plot(np.log2(1/mesh_sizes), np.log2(true_errors), marker=\"o\", label=\"true error\")\n",
    "# plt.plot(np.log2(1/mesh_sizes), np.log2(majorants), marker=\"o\", label=\"majorant\")\n",
    "# plt.xlabel(\"log2(1/h)\", fontsize=\"15\")\n",
    "# plt.ylabel(\"log2(error)\", fontsize=\"15\")\n",
    "# plt.legend(fontsize=\"15\")\n",
    "# plt.show()\n",
    "\n",
    "# # Efficiency index vs 1/h\n",
    "# plt.plot(1/mesh_sizes, efficiency_indices, marker=\"o\")\n",
    "# plt.xlabel(\"1/h\", fontsize=\"15\")\n",
    "# plt.ylabel(\"Efficiency index\", fontsize=\"15\")\n",
    "# plt.show()"
   ]
  }
 ],
 "metadata": {
  "kernelspec": {
   "display_name": "Python 3 (ipykernel)",
   "language": "python",
   "name": "python3"
  },
  "language_info": {
   "codemirror_mode": {
    "name": "ipython",
    "version": 3
   },
   "file_extension": ".py",
   "mimetype": "text/x-python",
   "name": "python",
   "nbconvert_exporter": "python",
   "pygments_lexer": "ipython3",
   "version": "3.8.11"
  }
 },
 "nbformat": 4,
 "nbformat_minor": 5
}
